{
  "nbformat": 4,
  "nbformat_minor": 0,
  "metadata": {
    "colab": {
      "name": "OverVsRestClassifier_and_GridSearchCV.ipynb",
      "provenance": [],
      "authorship_tag": "ABX9TyNk7jiCL4Bh12lh/etuF2LW",
      "include_colab_link": true
    },
    "kernelspec": {
      "name": "python3",
      "display_name": "Python 3"
    }
  },
  "cells": [
    {
      "cell_type": "markdown",
      "metadata": {
        "id": "view-in-github",
        "colab_type": "text"
      },
      "source": [
        "<a href=\"https://colab.research.google.com/github/thayanavt/Estudos_ML/blob/main/OverVsRestClassifier_and_GridSearchCV.ipynb\" target=\"_parent\"><img src=\"https://colab.research.google.com/assets/colab-badge.svg\" alt=\"Open In Colab\"/></a>"
      ]
    },
    {
      "cell_type": "markdown",
      "metadata": {
        "id": "Sq5wPQb7pFQW"
      },
      "source": [
        "- Iris dataset\n",
        "- Estimator = KNeighborsClassifier()\n",
        "- Calculating tpr, fpr, threshold e AUC for each class"
      ]
    },
    {
      "cell_type": "code",
      "metadata": {
        "id": "Fp1MMVNiRz3w"
      },
      "source": [
        "from sklearn import datasets\n",
        "from sklearn.model_selection import train_test_split\n",
        "from sklearn.preprocessing import label_binarize\n",
        "from sklearn.metrics import roc_curve, auc\n",
        "from sklearn.multiclass import OneVsRestClassifier\n",
        "from sklearn.model_selection import GridSearchCV\n",
        "import numpy as np\n",
        "from sklearn.neighbors import KNeighborsClassifier\n",
        "\n",
        "\n",
        "iris = datasets.load_iris()\n",
        "X = iris.data\n",
        "y = iris.target\n",
        "\n",
        "# Binarize the output\n",
        "y = label_binarize(y, classes=[0, 1, 2])\n",
        "n_classes = y.shape[1]\n",
        "\n",
        "X_train, X_test, y_train, y_test = train_test_split(X, y, test_size=0.3, random_state=0)\n",
        "\n",
        "\n",
        "k_values = list(range(1,7,2))\n",
        "parameters = [dict(n_neighbors=k_values)]\n",
        "\n",
        "clf = GridSearchCV(KNeighborsClassifier(), parameters, scoring = 'accuracy', cv=5)\n",
        "clf_multclass = OneVsRestClassifier(clf)\n",
        "cfl2 = clf_multclass.fit(X_train, y_train)\n",
        "y_pred = cfl2.predict(X_test)\n",
        "y_proba = cfl2.predict_proba(X_test)\n",
        "\n",
        "fpr = dict()\n",
        "tpr = dict()\n",
        "roc_auc = dict()\n",
        "\n",
        "for i in range(n_classes):\n",
        "    fpr[i], tpr[i], _ = roc_curve(y_test[:, i], y_proba[:, i])\n",
        "    roc_auc[i] = auc(fpr[i], tpr[i])\n",
        "\n"
      ],
      "execution_count": null,
      "outputs": []
    }
  ]
}